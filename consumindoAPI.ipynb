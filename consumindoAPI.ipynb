{
  "nbformat": 4,
  "nbformat_minor": 0,
  "metadata": {
    "colab": {
      "name": "dadosCodiv19.ipynb",
      "provenance": [],
      "collapsed_sections": []
    },
    "kernelspec": {
      "name": "python3",
      "display_name": "Python 3"
    }
  },
  "cells": [
    {
      "cell_type": "markdown",
      "metadata": {
        "id": "bzEvBVZZeln0",
        "colab_type": "text"
      },
      "source": [
        "# Consumindo API e tratando dados com Python\n",
        "\n",
        "**APIs REST**\n",
        "\n",
        "Uma API (application programming interface) é uma especificação que define como componentes de software devem interagir entre si (thanks, wikipedia!). APIs REST se utilizam do protocolo HTTP para fornecer determinadas funcionalidades aos seus clientes. Essas funcionalidades são descritas por conjuntos de recursos que podem ser acessados remotamente pelos clientes do serviço, através de requisições HTTP comuns.\n",
        "\n",
        "Em uma API REST existem dois conceitos principais: os recursos (resources) e as coleções (collections). Um recurso é uma unidade que representa um objeto (composto por dados, relacionamentos com outros recursos e métodos). Já uma coleção é um conjunto de recursos que pode ser obtido acessando uma URL. Tal coleção poderia representar a coleção de todos os registros de determinado tipo, ou então, todos os registros que possuem relacionamento com determinado objeto, ou todos os registros que atendem à determinada condição, etc.\n",
        "\n",
        "Como você pôde ver, uma API REST nada mais é do que um serviço que fornece acesso remoto a recursos via HTTP. Para podermos entender melhor e fazer requisições HTTP a um serviço REST, precisamos conhecer um pouquinho mais sobre o protocolo HTTP e como seus métodos são utilizados em uma API REST.\n",
        "\n",
        "\n",
        "\n",
        "**HTTP e seus métodos**\n",
        "\n",
        "O protocolo HTTP define que uma requisição de um cliente para um servidor é composta por:\n",
        "\n",
        "Uma linha descrevendo a requisição, composta por:\n",
        "Método: indica o que desejamos fazer com o recurso. Pode ser: GET, POST, PUT, DELETE, além de outros menos utilizados.\n",
        "URL: o endereço do recurso que se deseja acessar.\n",
        "Versão: a versão do protocolo a ser usada.\n",
        "O corpo da requisição, que pode conter informações como o nome do host de onde desejamos obter o recurso solicitado, dados a serem enviados do cliente para o servidor, etc.\n",
        "\n",
        "O método de uma requisição HTTP indica a ação que pretendemos realizar com aquela requisição, e cada método tem um significado próprio:\n",
        "\n",
        "**GET:** utilizado para a obtenção de dados. É o tipo de requisição que o navegador faz a um servidor quando você digita uma URL ou clica em um link.\n",
        "\n",
        "**POST:** utilizada na web para o envio de dados do navegador para o servidor, principalmente quando esses dados vão gerar alguma alteração no último.\n",
        "PUT: serve para solicitar a criação de objetos no servidor caso esses ainda não existirem. Na prática, a maioria das páginas utiliza o método POST para isso também.\n",
        "\n",
        "**DELETE:** serve para indicar que o usuário (emissor da requisição em questão) deseja apagar determinado recurso do servidor.\n",
        "\n",
        "Após executar a requisição do cliente, o serviço responde com uma mensagem de resposta HTTP. O protocolo HTTP define que as mensagens de resposta devem possuir um campo indicando o status da requisição. O status mais conhecido na web é o 404 (not found – recurso não encontrado), mas existem vários, como: 200 (OK), 401 (not authorized – indicando falta de autenticação), 500 (internal server error – erro no servidor), dentre outros. Por ser baseado em HTTP, o padrão REST define que as mensagens de resposta devem conter um código de status, para que o cliente do serviço web possa verificar o que aconteceu com a sua requisição.\n",
        "\n",
        "**O quê vamos fazer:**\n",
        "\n",
        "Acessar uma API do site https://brasil.io e pegarmos dados do Covid-19 e prepararmos estes dados para um futuro enriquecimento.\n",
        "\n",
        "Para esta tarefa utilizaremos algumas bibliotecas do Python, são elas:\n",
        "- **Json:**\n",
        "A biblioteca json disponível no Python pode operar com objetos json originários de arquivos ou strings. Ao decodificar o objeto , a biblioteca o  converte para listas ou dicionários Python. E também o inverso, ou seja, converte listas ou dicionários Python em objetos json.\n",
        "\n",
        "- **Requests:**\n",
        "A biblioteca requests é utilizada para fazer solicitações HTTP em Python. Ele abstrai as complexidades de fazer solicitações por trás de uma API simples e bonita, para que você possa se concentrar na interação com os serviços e no consumo de dados em seu aplicativo.\n",
        "\n",
        "- **Pandas:**\n",
        "O pandas é uma biblioteca de análise e manipulação de dados de código aberto, rápida, poderosa, flexível e fácil de usar, construída sobre a linguagem Python .\n",
        "\n",
        "Bom agora que já entendemos um pouco sobre APIs RESET, sobre algumas bibliotecas do python e oque vamos fazer vamos colocara mão na massa."
      ]
    },
    {
      "cell_type": "markdown",
      "metadata": {
        "id": "Hr5xcZpI9orY",
        "colab_type": "text"
      },
      "source": [
        "**Instala as Bibliotecas necessárias**\n",
        "\n",
        "Vamos precisar instalar as bibliotecas do python citado acima, caso estes não esteja instalado, execute a celula abaixo:\n"
      ]
    },
    {
      "cell_type": "code",
      "metadata": {
        "id": "Lpvrmh996j7K",
        "colab_type": "code",
        "outputId": "a4d8121d-a43f-4a92-941f-e9a371e51aef",
        "colab": {
          "base_uri": "https://localhost:8080/",
          "height": 221
        }
      },
      "source": [
        "!pip install json\n",
        "!pip install requests\n",
        "!pip install pandas"
      ],
      "execution_count": 171,
      "outputs": [
        {
          "output_type": "stream",
          "text": [
            "\u001b[31mERROR: Could not find a version that satisfies the requirement json (from versions: none)\u001b[0m\n",
            "\u001b[31mERROR: No matching distribution found for json\u001b[0m\n",
            "Requirement already satisfied: requests in /usr/local/lib/python3.6/dist-packages (2.21.0)\n",
            "Requirement already satisfied: chardet<3.1.0,>=3.0.2 in /usr/local/lib/python3.6/dist-packages (from requests) (3.0.4)\n",
            "Requirement already satisfied: certifi>=2017.4.17 in /usr/local/lib/python3.6/dist-packages (from requests) (2019.11.28)\n",
            "Requirement already satisfied: urllib3<1.25,>=1.21.1 in /usr/local/lib/python3.6/dist-packages (from requests) (1.24.3)\n",
            "Requirement already satisfied: idna<2.9,>=2.5 in /usr/local/lib/python3.6/dist-packages (from requests) (2.8)\n",
            "Requirement already satisfied: pandas in /usr/local/lib/python3.6/dist-packages (0.25.3)\n",
            "Requirement already satisfied: pytz>=2017.2 in /usr/local/lib/python3.6/dist-packages (from pandas) (2018.9)\n",
            "Requirement already satisfied: python-dateutil>=2.6.1 in /usr/local/lib/python3.6/dist-packages (from pandas) (2.8.1)\n",
            "Requirement already satisfied: numpy>=1.13.3 in /usr/local/lib/python3.6/dist-packages (from pandas) (1.18.2)\n",
            "Requirement already satisfied: six>=1.5 in /usr/local/lib/python3.6/dist-packages (from python-dateutil>=2.6.1->pandas) (1.12.0)\n"
          ],
          "name": "stdout"
        }
      ]
    },
    {
      "cell_type": "markdown",
      "metadata": {
        "id": "VmT9otJm9zJ1",
        "colab_type": "text"
      },
      "source": [
        "**Importa as Bibliotecas**\n",
        "\n",
        "Agora precisamos importar as bibliotecas para que possamos utilizá las em nosso algoritimo."
      ]
    },
    {
      "cell_type": "code",
      "metadata": {
        "id": "nf1y0s5u7OQs",
        "colab_type": "code",
        "colab": {}
      },
      "source": [
        "import json\n",
        "import requests\n",
        "import pandas as pd"
      ],
      "execution_count": 0,
      "outputs": []
    },
    {
      "cell_type": "markdown",
      "metadata": {
        "id": "_VCoc6L57r7t",
        "colab_type": "text"
      },
      "source": [
        "**Pega dados do Covid19 da API do Brasil.io**\n",
        "\n",
        "Com as bibliotecas instanciadas precisamos fazer a requisição à API para capturar os dados e armazena los em uma variável."
      ]
    },
    {
      "cell_type": "code",
      "metadata": {
        "id": "YNBuhHTN7glL",
        "colab_type": "code",
        "colab": {}
      },
      "source": [
        "dadoscodvi19 = requests.get('https://brasil.io/api/dataset/covid19/caso/data')"
      ],
      "execution_count": 0,
      "outputs": []
    },
    {
      "cell_type": "markdown",
      "metadata": {
        "id": "q0LzvIG578Mi",
        "colab_type": "text"
      },
      "source": [
        "**Convertendo dados da API para m dicionario**\n",
        "\n",
        "Os dados capturados estão no formato JSON e para que possamos manipulá los em python precisamos converter o mesmo em um dicionário e para isso utilizamos a função loads da biblioteca JSON.\n"
      ]
    },
    {
      "cell_type": "code",
      "metadata": {
        "id": "pI4ovcSH76Fr",
        "colab_type": "code",
        "colab": {}
      },
      "source": [
        "dicCovid = json.loads(dadoscodvi19.content)"
      ],
      "execution_count": 0,
      "outputs": []
    },
    {
      "cell_type": "markdown",
      "metadata": {
        "id": "AA7f372vUTqD",
        "colab_type": "text"
      },
      "source": [
        "**Exibir as chaves do Dicionário**\n",
        "\n",
        "Precisamos agora entender a estrutura do nosso dicionário e para isso precisamos exibir algumas informações estruturais"
      ]
    },
    {
      "cell_type": "code",
      "metadata": {
        "id": "2f6-JoGTXAzx",
        "colab_type": "code",
        "colab": {
          "base_uri": "https://localhost:8080/",
          "height": 34
        },
        "outputId": "d0759bc3-9614-4f45-f4d9-22a64f753e48"
      },
      "source": [
        "dicCovid.keys()"
      ],
      "execution_count": 231,
      "outputs": [
        {
          "output_type": "execute_result",
          "data": {
            "text/plain": [
              "dict_keys(['count', 'next', 'previous', 'results'])"
            ]
          },
          "metadata": {
            "tags": []
          },
          "execution_count": 231
        }
      ]
    },
    {
      "cell_type": "markdown",
      "metadata": {
        "id": "fwHPe4PAiMjd",
        "colab_type": "text"
      },
      "source": [
        "Com este resultado podemos ver que temos uma dicionario chamada results e este pode conter nossos dados, para confirmarmos esta hipótese podemos exibir a estrutura da lista results"
      ]
    },
    {
      "cell_type": "code",
      "metadata": {
        "id": "TdPuD98UUgdM",
        "colab_type": "code",
        "colab": {
          "base_uri": "https://localhost:8080/",
          "height": 54
        },
        "outputId": "ce9ac72e-ac90-4d93-92d2-e474db36addb"
      },
      "source": [
        "dicCovid['results'][0].keys()"
      ],
      "execution_count": 232,
      "outputs": [
        {
          "output_type": "execute_result",
          "data": {
            "text/plain": [
              "dict_keys(['city', 'city_ibge_code', 'confirmed', 'confirmed_per_100k_inhabitants', 'date', 'death_rate', 'deaths', 'estimated_population_2019', 'is_last', 'order_for_place', 'place_type', 'state'])"
            ]
          },
          "metadata": {
            "tags": []
          },
          "execution_count": 232
        }
      ]
    },
    {
      "cell_type": "markdown",
      "metadata": {
        "id": "jfxSabHLjObo",
        "colab_type": "text"
      },
      "source": [
        "Com isso conseguimos ter a confirmação de nossa hipótese, pois o resultado nos mostra as colunas que esperávamos"
      ]
    },
    {
      "cell_type": "markdown",
      "metadata": {
        "id": "m1WeP-KA8Y7C",
        "colab_type": "text"
      },
      "source": [
        "**Converte dicionário em Data Frame**\n",
        "\n",
        "Após termos entendido a estrutura do nosso dicionário podemos agora transformar a chave results em um data frame do pandas, pois só assim conseguiremos utilizar as funções do mesmo"
      ]
    },
    {
      "cell_type": "code",
      "metadata": {
        "id": "0D6wK0A_8Xbv",
        "colab_type": "code",
        "colab": {}
      },
      "source": [
        "dfCodiv19 = pd.DataFrame(dicCovid ['results'])"
      ],
      "execution_count": 0,
      "outputs": []
    },
    {
      "cell_type": "markdown",
      "metadata": {
        "id": "d4kNF0BIjqvR",
        "colab_type": "text"
      },
      "source": [
        "**Descrevendo e limpando o dataset**\n",
        "\n",
        "Para que possamos entender nosso dataframe e sabermos quais colunas temos que ajustar e quais temos que eliminar ou mesmo manter precisamos entender como estão e para isso precisamos coletar informações sobre o dataframe."
      ]
    },
    {
      "cell_type": "code",
      "metadata": {
        "id": "0K-YsBj7SWo8",
        "colab_type": "code",
        "colab": {
          "base_uri": "https://localhost:8080/",
          "height": 238
        },
        "outputId": "4d543b41-0496-4178-af7e-cbbd4c24e137"
      },
      "source": [
        "dfCodiv19.count()"
      ],
      "execution_count": 234,
      "outputs": [
        {
          "output_type": "execute_result",
          "data": {
            "text/plain": [
              "city                               906\n",
              "city_ibge_code                     963\n",
              "confirmed                         1000\n",
              "confirmed_per_100k_inhabitants     958\n",
              "date                              1000\n",
              "death_rate                          90\n",
              "deaths                             908\n",
              "estimated_population_2019          963\n",
              "is_last                           1000\n",
              "order_for_place                   1000\n",
              "place_type                        1000\n",
              "state                             1000\n",
              "dtype: int64"
            ]
          },
          "metadata": {
            "tags": []
          },
          "execution_count": 234
        }
      ]
    },
    {
      "cell_type": "markdown",
      "metadata": {
        "id": "kmBQFx8zkqqt",
        "colab_type": "text"
      },
      "source": [
        "Com estes dados podemos tirar algumas conlusões:\n",
        "- temos um total de 1.000 linhas em nosso dataset\n",
        "- Temos algumas colunas que não nos serão necessárias e que podemos elimina las, são elas:\n",
        "  - city_ibge_code\n",
        "  - confirmed_per_100k_inhabitants\n",
        "  - death_rate\n",
        "  - estimated_population_2019\n",
        "  - is_last\n",
        "  - order_for_place\n",
        "- deaths e city precisa ser analizada, pois como pudemos ver ela não contem a mesma quantidade de registros que o total do nosso dataset"
      ]
    },
    {
      "cell_type": "markdown",
      "metadata": {
        "id": "6B7runl_toVs",
        "colab_type": "text"
      },
      "source": [
        "Vamos liminar as colunas desnecessárias"
      ]
    },
    {
      "cell_type": "code",
      "metadata": {
        "id": "zDsF-DGwrOGh",
        "colab_type": "code",
        "colab": {
          "base_uri": "https://localhost:8080/",
          "height": 221
        },
        "outputId": "3c940e2c-8867-4cdf-ce45-ebe4587a209a"
      },
      "source": [
        "dfCodiv19.pop('city_ibge_code')\n",
        "dfCodiv19.pop('confirmed_per_100k_inhabitants')\n",
        "dfCodiv19.pop('death_rate')\n",
        "dfCodiv19.pop('estimated_population_2019')\n",
        "dfCodiv19.pop('is_last')"
      ],
      "execution_count": 235,
      "outputs": [
        {
          "output_type": "execute_result",
          "data": {
            "text/plain": [
              "0       True\n",
              "1       True\n",
              "2       True\n",
              "3       True\n",
              "4       True\n",
              "       ...  \n",
              "995    False\n",
              "996    False\n",
              "997    False\n",
              "998    False\n",
              "999    False\n",
              "Name: is_last, Length: 1000, dtype: bool"
            ]
          },
          "metadata": {
            "tags": []
          },
          "execution_count": 235
        }
      ]
    },
    {
      "cell_type": "markdown",
      "metadata": {
        "id": "J_ctd6mxrNI0",
        "colab_type": "text"
      },
      "source": [
        "vamos agora analizar a coluna city que identificamos que, possui dados missing(sujeira ou dados faltantes) e vamos iniciar vendo os dados que estão nulos no dataset"
      ]
    },
    {
      "cell_type": "code",
      "metadata": {
        "id": "hxTQPTSgv5tn",
        "colab_type": "code",
        "colab": {
          "base_uri": "https://localhost:8080/",
          "height": 419
        },
        "outputId": "0ced2bf7-42e8-4820-e469-cf0d1b9bc9ab"
      },
      "source": [
        "dfCodiv19[dfCodiv19['city'].isnull()]"
      ],
      "execution_count": 236,
      "outputs": [
        {
          "output_type": "execute_result",
          "data": {
            "text/html": [
              "<div>\n",
              "<style scoped>\n",
              "    .dataframe tbody tr th:only-of-type {\n",
              "        vertical-align: middle;\n",
              "    }\n",
              "\n",
              "    .dataframe tbody tr th {\n",
              "        vertical-align: top;\n",
              "    }\n",
              "\n",
              "    .dataframe thead th {\n",
              "        text-align: right;\n",
              "    }\n",
              "</style>\n",
              "<table border=\"1\" class=\"dataframe\">\n",
              "  <thead>\n",
              "    <tr style=\"text-align: right;\">\n",
              "      <th></th>\n",
              "      <th>city</th>\n",
              "      <th>confirmed</th>\n",
              "      <th>date</th>\n",
              "      <th>deaths</th>\n",
              "      <th>order_for_place</th>\n",
              "      <th>place_type</th>\n",
              "      <th>state</th>\n",
              "    </tr>\n",
              "  </thead>\n",
              "  <tbody>\n",
              "    <tr>\n",
              "      <th>1</th>\n",
              "      <td>None</td>\n",
              "      <td>25</td>\n",
              "      <td>2020-03-28</td>\n",
              "      <td>0.0</td>\n",
              "      <td>12</td>\n",
              "      <td>state</td>\n",
              "      <td>AC</td>\n",
              "    </tr>\n",
              "    <tr>\n",
              "      <th>4</th>\n",
              "      <td>None</td>\n",
              "      <td>14</td>\n",
              "      <td>2020-03-28</td>\n",
              "      <td>0.0</td>\n",
              "      <td>18</td>\n",
              "      <td>state</td>\n",
              "      <td>AL</td>\n",
              "    </tr>\n",
              "    <tr>\n",
              "      <th>10</th>\n",
              "      <td>None</td>\n",
              "      <td>111</td>\n",
              "      <td>2020-03-28</td>\n",
              "      <td>1.0</td>\n",
              "      <td>12</td>\n",
              "      <td>state</td>\n",
              "      <td>AM</td>\n",
              "    </tr>\n",
              "    <tr>\n",
              "      <th>12</th>\n",
              "      <td>None</td>\n",
              "      <td>4</td>\n",
              "      <td>2020-03-28</td>\n",
              "      <td>0.0</td>\n",
              "      <td>9</td>\n",
              "      <td>state</td>\n",
              "      <td>AP</td>\n",
              "    </tr>\n",
              "    <tr>\n",
              "      <th>34</th>\n",
              "      <td>None</td>\n",
              "      <td>127</td>\n",
              "      <td>2020-03-28</td>\n",
              "      <td>NaN</td>\n",
              "      <td>21</td>\n",
              "      <td>state</td>\n",
              "      <td>BA</td>\n",
              "    </tr>\n",
              "    <tr>\n",
              "      <th>...</th>\n",
              "      <td>...</td>\n",
              "      <td>...</td>\n",
              "      <td>...</td>\n",
              "      <td>...</td>\n",
              "      <td>...</td>\n",
              "      <td>...</td>\n",
              "      <td>...</td>\n",
              "    </tr>\n",
              "    <tr>\n",
              "      <th>931</th>\n",
              "      <td>None</td>\n",
              "      <td>370</td>\n",
              "      <td>2020-03-25</td>\n",
              "      <td>8.0</td>\n",
              "      <td>13</td>\n",
              "      <td>state</td>\n",
              "      <td>RJ</td>\n",
              "    </tr>\n",
              "    <tr>\n",
              "      <th>935</th>\n",
              "      <td>None</td>\n",
              "      <td>14</td>\n",
              "      <td>2020-03-25</td>\n",
              "      <td>0.0</td>\n",
              "      <td>9</td>\n",
              "      <td>state</td>\n",
              "      <td>RN</td>\n",
              "    </tr>\n",
              "    <tr>\n",
              "      <th>938</th>\n",
              "      <td>None</td>\n",
              "      <td>5</td>\n",
              "      <td>2020-03-25</td>\n",
              "      <td>0.0</td>\n",
              "      <td>5</td>\n",
              "      <td>state</td>\n",
              "      <td>RO</td>\n",
              "    </tr>\n",
              "    <tr>\n",
              "      <th>941</th>\n",
              "      <td>None</td>\n",
              "      <td>8</td>\n",
              "      <td>2020-03-25</td>\n",
              "      <td>0.0</td>\n",
              "      <td>5</td>\n",
              "      <td>state</td>\n",
              "      <td>RR</td>\n",
              "    </tr>\n",
              "    <tr>\n",
              "      <th>981</th>\n",
              "      <td>None</td>\n",
              "      <td>162</td>\n",
              "      <td>2020-03-25</td>\n",
              "      <td>1.0</td>\n",
              "      <td>13</td>\n",
              "      <td>state</td>\n",
              "      <td>RS</td>\n",
              "    </tr>\n",
              "  </tbody>\n",
              "</table>\n",
              "<p>94 rows × 7 columns</p>\n",
              "</div>"
            ],
            "text/plain": [
              "     city  confirmed        date  deaths  order_for_place place_type state\n",
              "1    None         25  2020-03-28     0.0               12      state    AC\n",
              "4    None         14  2020-03-28     0.0               18      state    AL\n",
              "10   None        111  2020-03-28     1.0               12      state    AM\n",
              "12   None          4  2020-03-28     0.0                9      state    AP\n",
              "34   None        127  2020-03-28     NaN               21      state    BA\n",
              "..    ...        ...         ...     ...              ...        ...   ...\n",
              "931  None        370  2020-03-25     8.0               13      state    RJ\n",
              "935  None         14  2020-03-25     0.0                9      state    RN\n",
              "938  None          5  2020-03-25     0.0                5      state    RO\n",
              "941  None          8  2020-03-25     0.0                5      state    RR\n",
              "981  None        162  2020-03-25     1.0               13      state    RS\n",
              "\n",
              "[94 rows x 7 columns]"
            ]
          },
          "metadata": {
            "tags": []
          },
          "execution_count": 236
        }
      ]
    },
    {
      "cell_type": "markdown",
      "metadata": {
        "id": "0-VzlFSDzRzH",
        "colab_type": "text"
      },
      "source": [
        "Com a análise acima podemos ver que os dados que estão com a coluna city nulos são os que mostram as valores de casos confirmados e moretes sumarizados por estado e como não vamos precisar destes dados,pois podemos calular os mesmo quando precisarmos.\n",
        "\n",
        "Então vamos remover os  dados desnecesários."
      ]
    },
    {
      "cell_type": "code",
      "metadata": {
        "id": "gKx6xKdG0hdC",
        "colab_type": "code",
        "colab": {}
      },
      "source": [
        "dfCodiv19 = dfCodiv19[dfCodiv19['city'].notnull()]"
      ],
      "execution_count": 0,
      "outputs": []
    },
    {
      "cell_type": "markdown",
      "metadata": {
        "id": "i6faLWUm071V",
        "colab_type": "text"
      },
      "source": [
        "Agora que removemos os dados missing da coluna city, precisamos dar uma analizada no conteudo da coluna para que possamos ter a certeza que os dados são validos."
      ]
    },
    {
      "cell_type": "code",
      "metadata": {
        "id": "TbBj-JCM1cvF",
        "colab_type": "code",
        "colab": {
          "base_uri": "https://localhost:8080/",
          "height": 1224
        },
        "outputId": "211e2e4b-6ba9-4413-cce8-d458b3420bc5"
      },
      "source": [
        "pd.unique(dfCodiv19[['city']].values.ravel('K'))"
      ],
      "execution_count": 238,
      "outputs": [
        {
          "output_type": "execute_result",
          "data": {
            "text/plain": [
              "array(['Rio Branco', 'Maceió', 'Porto Real do Colégio', 'Boca do Acre',\n",
              "       'Manacapuru', 'Manaus', 'Parintins', 'Santo Antônio do Içá',\n",
              "       'Macapá', 'Alagoinhas', 'Barreiras', 'Brumado', 'Camaçari',\n",
              "       'Canarana', 'Conceição do Jacuípe', 'Conde', 'Feira de Santana',\n",
              "       'Ilhéus', 'Importados/Indefinidos', 'Ipiaú', 'Itabuna', 'Itagibá',\n",
              "       'Jequié', 'Juazeiro', 'Lauro de Freitas', 'Porto Seguro', 'Prado',\n",
              "       'Salvador', 'São Domingos', 'Teixeira de Freitas', 'Aquiraz',\n",
              "       'Caucaia', 'Fortaleza', 'Fortim', 'Juazeiro do Norte',\n",
              "       'Maranguape', 'Mauriti', 'Quixadá', 'Sobral',\n",
              "       'Águas Lindas de Goiás', 'Anápolis', 'Aparecida de Goiânia',\n",
              "       'Catalão', 'Goianésia', 'Goiânia', 'Hidrolândia', 'Jataí',\n",
              "       'Luziânia', 'Rio Verde', 'Silvânia', 'Valparaíso de Goiás',\n",
              "       'Belo Horizonte', 'Betim', 'Boa Esperança', 'Bom Despacho',\n",
              "       'Campo Belo', 'Campos Altos', 'Carmo do Cajuru', 'Contagem',\n",
              "       'Coronel Fabriciano', 'Divinópolis', 'Governador Valadares',\n",
              "       'Guimarânia', 'Ipatinga', 'Juiz de Fora', 'Lagoa da Prata',\n",
              "       'Mariana', 'Nova Lima', 'Patrocínio', 'Poços de Caldas', 'Sabará',\n",
              "       'São João del Rei', 'Sete Lagoas', 'Timóteo', 'Uberaba',\n",
              "       'Uberlândia', 'Batayporã', 'Campo Grande', 'Dourados',\n",
              "       'Ponta Porã', 'Rio Verde de Mato Grosso', 'Sidrolândia',\n",
              "       'Campina Grande', 'Igaracy', 'João Pessoa', 'Sousa', 'Belo Jardim',\n",
              "       'Camaragibe', 'Caruaru', 'Fernando de Noronha', 'Goiana',\n",
              "       'Jaboatão dos Guararapes', 'Olinda', 'Petrolina', 'Recife',\n",
              "       'São Lourenço da Mata', 'Parnaíba', 'São José do Divino',\n",
              "       'Teresina', 'Campo Largo', 'Campo Mourão', 'Cascavel', 'Cianorte',\n",
              "       'Colombo', 'Curitiba', 'Faxinal', 'Foz do Iguaçu', 'Guaíra',\n",
              "       'Guarapuava', 'Iretama', 'Londrina', 'Maringá', 'Mariópolis',\n",
              "       'Paranavaí', 'Pato Branco', 'Pinhais', 'Ponta Grossa', 'Quatiguá',\n",
              "       'Rio Negro', 'Telêmaco Borba', 'Umuarama', 'União da Vitória',\n",
              "       'Barra Mansa', 'Belford Roxo', 'Campos dos Goytacazes',\n",
              "       'Duque de Caxias', 'Guapimirim', 'Itaboraí', 'Mangaratiba',\n",
              "       'Miguel Pereira', 'Niterói', 'Nova Iguaçu', 'Petrópolis',\n",
              "       'Resende', 'Rio de Janeiro', 'São Gonçalo', 'Valença',\n",
              "       'Volta Redonda', 'Macaíba', 'Monte Alegre', 'Mossoró', 'Natal',\n",
              "       'Parnamirim', 'Passa e Fica', 'Antônio Carlos',\n",
              "       'Balneário Arroio do Silva', 'Balneário Camboriú', 'Blumenau',\n",
              "       'Braço do Norte', 'Brusque', 'Camboriú', 'Canelinha', 'Chapecó',\n",
              "       'Criciúma', 'Florianópolis', 'Gaspar', 'Gravatal', 'Içara',\n",
              "       'Imbituba', 'Itajaí', 'Itapema', 'Jaguaruna', 'Jaraguá do Sul',\n",
              "       'Joinville', 'Lages', 'Laguna', 'Navegantes', 'Papanduva',\n",
              "       'Pomerode', 'Porto Belo', 'Rancho Queimado',\n",
              "       'São Francisco do Sul', 'São José', 'São Lourenço do Oeste',\n",
              "       'São Ludgero', 'São Pedro de Alcântara', 'Siderópolis', 'Tijucas',\n",
              "       'Timbé do Sul', 'Tubarão', 'Urussanga', 'Araguaína', 'Palmas',\n",
              "       'Brasília', 'Cachoeiro de Itapemirim', 'Cariacica', 'Castelo',\n",
              "       'Linhares', 'Santa Teresa', 'São Roque do Canaã', 'Serra',\n",
              "       'Vila Velha', 'Vitória', 'São Luís', 'Cuiabá', 'Nova Monte Verde',\n",
              "       'Várzea Grande', 'Ananindeua', 'Belém', 'Castanhal', 'Itaituba',\n",
              "       'Marabá', 'Ji-Paraná', 'Porto Velho', 'Boa Vista', 'Bonfim',\n",
              "       'Alvorada', 'Anta Gorda', 'Bagé', 'Bento Gonçalves',\n",
              "       'Cachoeira do Sul', 'Campo Bom', 'Canoas', 'Capão da Canoa',\n",
              "       'Carlos Barbosa', 'Caxias do Sul', 'Cerro Grande do Sul',\n",
              "       'Charqueadas', 'Cruzeiro do Sul', 'Dois Irmãos', 'Dom Pedrito',\n",
              "       'Eldorado do Sul', 'Erechim', 'Estância Velha', 'Estrela',\n",
              "       'Farroupilha', 'Garibaldi', 'Gravataí', 'Ivoti', 'Lajeado',\n",
              "       'Marau', 'Nova Palma', 'Osório', 'Paraí', 'Passo Fundo', 'Pelotas',\n",
              "       'Piratini', 'Porto Alegre', 'Rio Grande', 'Rolante', 'Santa Maria',\n",
              "       \"Sant'Ana do Livramento\", 'Santa Rosa', 'Santiago',\n",
              "       'Santo Antônio da Patrulha', 'São Leopoldo', 'Sapiranga',\n",
              "       'Serafina Corrêa', 'Taquara', 'Torres', 'Viamão', 'Aracaju',\n",
              "       'Nossa Senhora da Glória', 'Propriá', 'Arujá', 'Barueri',\n",
              "       'Caieiras', 'Campinas', 'Carapicuíba', 'Cotia', 'Diadema',\n",
              "       'Embu das Artes', 'Ferraz de Vasconcelos', 'Guarulhos',\n",
              "       'Hortolândia', 'Iracemápolis', 'Jaguariúna', 'Jundiaí', 'Louveira',\n",
              "       'Mairiporã', 'Mauá', 'Mogi das Cruzes', 'Osasco', 'Poá',\n",
              "       'Ribeirão Pires', 'Ribeirão Preto', 'Rio Claro',\n",
              "       'Santana de Parnaíba', 'Santo André', 'São Bernardo do Campo',\n",
              "       'São Caetano do Sul', 'São José do Rio Preto',\n",
              "       'São José dos Campos', 'São Paulo', 'São Sebastião', 'Sorocaba',\n",
              "       'Suzano', 'Taboão da Serra', 'Tatuí', 'Taubaté', 'Valinhos',\n",
              "       'Vargem Grande Paulista', 'Camaquã'], dtype=object)"
            ]
          },
          "metadata": {
            "tags": []
          },
          "execution_count": 238
        }
      ]
    },
    {
      "cell_type": "markdown",
      "metadata": {
        "id": "YtEZUscg2U2a",
        "colab_type": "text"
      },
      "source": [
        "Com isso podemos concluir que a coluna city do nosso dataset está OK "
      ]
    },
    {
      "cell_type": "markdown",
      "metadata": {
        "id": "TT9X3VDs24Ul",
        "colab_type": "text"
      },
      "source": [
        "Então vamos agora analisar a coluna deaths"
      ]
    },
    {
      "cell_type": "code",
      "metadata": {
        "id": "b2VA9J3r3GA-",
        "colab_type": "code",
        "colab": {
          "base_uri": "https://localhost:8080/",
          "height": 419
        },
        "outputId": "b0eeb7da-3ddb-4a9b-914c-5018df03a07d"
      },
      "source": [
        "dfCodiv19[dfCodiv19['deaths'].isnull()]"
      ],
      "execution_count": 239,
      "outputs": [
        {
          "output_type": "execute_result",
          "data": {
            "text/html": [
              "<div>\n",
              "<style scoped>\n",
              "    .dataframe tbody tr th:only-of-type {\n",
              "        vertical-align: middle;\n",
              "    }\n",
              "\n",
              "    .dataframe tbody tr th {\n",
              "        vertical-align: top;\n",
              "    }\n",
              "\n",
              "    .dataframe thead th {\n",
              "        text-align: right;\n",
              "    }\n",
              "</style>\n",
              "<table border=\"1\" class=\"dataframe\">\n",
              "  <thead>\n",
              "    <tr style=\"text-align: right;\">\n",
              "      <th></th>\n",
              "      <th>city</th>\n",
              "      <th>confirmed</th>\n",
              "      <th>date</th>\n",
              "      <th>deaths</th>\n",
              "      <th>order_for_place</th>\n",
              "      <th>place_type</th>\n",
              "      <th>state</th>\n",
              "    </tr>\n",
              "  </thead>\n",
              "  <tbody>\n",
              "    <tr>\n",
              "      <th>5</th>\n",
              "      <td>Boca do Acre</td>\n",
              "      <td>1</td>\n",
              "      <td>2020-03-28</td>\n",
              "      <td>NaN</td>\n",
              "      <td>3</td>\n",
              "      <td>city</td>\n",
              "      <td>AM</td>\n",
              "    </tr>\n",
              "    <tr>\n",
              "      <th>6</th>\n",
              "      <td>Manacapuru</td>\n",
              "      <td>2</td>\n",
              "      <td>2020-03-28</td>\n",
              "      <td>NaN</td>\n",
              "      <td>2</td>\n",
              "      <td>city</td>\n",
              "      <td>AM</td>\n",
              "    </tr>\n",
              "    <tr>\n",
              "      <th>7</th>\n",
              "      <td>Manaus</td>\n",
              "      <td>105</td>\n",
              "      <td>2020-03-28</td>\n",
              "      <td>NaN</td>\n",
              "      <td>12</td>\n",
              "      <td>city</td>\n",
              "      <td>AM</td>\n",
              "    </tr>\n",
              "    <tr>\n",
              "      <th>9</th>\n",
              "      <td>Santo Antônio do Içá</td>\n",
              "      <td>1</td>\n",
              "      <td>2020-03-28</td>\n",
              "      <td>NaN</td>\n",
              "      <td>3</td>\n",
              "      <td>city</td>\n",
              "      <td>AM</td>\n",
              "    </tr>\n",
              "    <tr>\n",
              "      <th>13</th>\n",
              "      <td>Alagoinhas</td>\n",
              "      <td>1</td>\n",
              "      <td>2020-03-28</td>\n",
              "      <td>NaN</td>\n",
              "      <td>3</td>\n",
              "      <td>city</td>\n",
              "      <td>BA</td>\n",
              "    </tr>\n",
              "    <tr>\n",
              "      <th>...</th>\n",
              "      <td>...</td>\n",
              "      <td>...</td>\n",
              "      <td>...</td>\n",
              "      <td>...</td>\n",
              "      <td>...</td>\n",
              "      <td>...</td>\n",
              "      <td>...</td>\n",
              "    </tr>\n",
              "    <tr>\n",
              "      <th>891</th>\n",
              "      <td>Importados/Indefinidos</td>\n",
              "      <td>5</td>\n",
              "      <td>2020-03-25</td>\n",
              "      <td>NaN</td>\n",
              "      <td>9</td>\n",
              "      <td>city</td>\n",
              "      <td>PE</td>\n",
              "    </tr>\n",
              "    <tr>\n",
              "      <th>892</th>\n",
              "      <td>Jaboatão dos Guararapes</td>\n",
              "      <td>3</td>\n",
              "      <td>2020-03-25</td>\n",
              "      <td>NaN</td>\n",
              "      <td>7</td>\n",
              "      <td>city</td>\n",
              "      <td>PE</td>\n",
              "    </tr>\n",
              "    <tr>\n",
              "      <th>893</th>\n",
              "      <td>Olinda</td>\n",
              "      <td>3</td>\n",
              "      <td>2020-03-25</td>\n",
              "      <td>NaN</td>\n",
              "      <td>4</td>\n",
              "      <td>city</td>\n",
              "      <td>PE</td>\n",
              "    </tr>\n",
              "    <tr>\n",
              "      <th>894</th>\n",
              "      <td>Petrolina</td>\n",
              "      <td>2</td>\n",
              "      <td>2020-03-25</td>\n",
              "      <td>NaN</td>\n",
              "      <td>3</td>\n",
              "      <td>city</td>\n",
              "      <td>PE</td>\n",
              "    </tr>\n",
              "    <tr>\n",
              "      <th>946</th>\n",
              "      <td>Camaquã</td>\n",
              "      <td>0</td>\n",
              "      <td>2020-03-25</td>\n",
              "      <td>NaN</td>\n",
              "      <td>2</td>\n",
              "      <td>city</td>\n",
              "      <td>RS</td>\n",
              "    </tr>\n",
              "  </tbody>\n",
              "</table>\n",
              "<p>89 rows × 7 columns</p>\n",
              "</div>"
            ],
            "text/plain": [
              "                        city  confirmed  ... place_type  state\n",
              "5               Boca do Acre          1  ...       city     AM\n",
              "6                 Manacapuru          2  ...       city     AM\n",
              "7                     Manaus        105  ...       city     AM\n",
              "9       Santo Antônio do Içá          1  ...       city     AM\n",
              "13                Alagoinhas          1  ...       city     BA\n",
              "..                       ...        ...  ...        ...    ...\n",
              "891   Importados/Indefinidos          5  ...       city     PE\n",
              "892  Jaboatão dos Guararapes          3  ...       city     PE\n",
              "893                   Olinda          3  ...       city     PE\n",
              "894                Petrolina          2  ...       city     PE\n",
              "946                  Camaquã          0  ...       city     RS\n",
              "\n",
              "[89 rows x 7 columns]"
            ]
          },
          "metadata": {
            "tags": []
          },
          "execution_count": 239
        }
      ]
    },
    {
      "cell_type": "markdown",
      "metadata": {
        "id": "dNLlz_ht3ahh",
        "colab_type": "text"
      },
      "source": [
        "Com esta anaise podemos ver que existem cidades que não tem mortes e possuem o valor da mesma ausente, então precisamos preencher as mesmas com 0"
      ]
    },
    {
      "cell_type": "code",
      "metadata": {
        "id": "1getknUr3s4l",
        "colab_type": "code",
        "colab": {}
      },
      "source": [
        "dfCodiv19 = dfCodiv19.fillna(0)"
      ],
      "execution_count": 0,
      "outputs": []
    },
    {
      "cell_type": "markdown",
      "metadata": {
        "id": "wR4liGQk5KVP",
        "colab_type": "text"
      },
      "source": [
        "Vamos agora verificar se temos mais algum valor nulos e se corrigimos a coluna deaths"
      ]
    },
    {
      "cell_type": "code",
      "metadata": {
        "id": "f2zedZSprpLY",
        "colab_type": "code",
        "colab": {
          "base_uri": "https://localhost:8080/",
          "height": 153
        },
        "outputId": "b942753c-134b-4919-f474-9fcbbd693070"
      },
      "source": [
        "dfCodiv19.isna().sum()"
      ],
      "execution_count": 246,
      "outputs": [
        {
          "output_type": "execute_result",
          "data": {
            "text/plain": [
              "city               0\n",
              "confirmed          0\n",
              "date               0\n",
              "deaths             0\n",
              "order_for_place    0\n",
              "place_type         0\n",
              "state              0\n",
              "dtype: int64"
            ]
          },
          "metadata": {
            "tags": []
          },
          "execution_count": 246
        }
      ]
    },
    {
      "cell_type": "markdown",
      "metadata": {
        "id": "RczEAgpD5iR5",
        "colab_type": "text"
      },
      "source": [
        "Vamos verificar os valores da coluna place_type, pois precisamos ter apenas as cidades em nosso dataset."
      ]
    },
    {
      "cell_type": "code",
      "metadata": {
        "id": "lFoYqZZU6Crs",
        "colab_type": "code",
        "colab": {
          "base_uri": "https://localhost:8080/",
          "height": 34
        },
        "outputId": "0382ee12-860c-4f07-b480-857c714dcbce"
      },
      "source": [
        "pd.unique(dfCodiv19[['place_type']].values.ravel('K'))"
      ],
      "execution_count": 247,
      "outputs": [
        {
          "output_type": "execute_result",
          "data": {
            "text/plain": [
              "array(['city'], dtype=object)"
            ]
          },
          "metadata": {
            "tags": []
          },
          "execution_count": 247
        }
      ]
    },
    {
      "cell_type": "markdown",
      "metadata": {
        "id": "94tRra_k6MQf",
        "colab_type": "text"
      },
      "source": [
        "Com isso confirmamos que só possuimos cidades e não temos a necessidade de termos mais esta coluna em nosso dataset, então vamos leiminala"
      ]
    },
    {
      "cell_type": "code",
      "metadata": {
        "id": "Ej-UJdPd6d0-",
        "colab_type": "code",
        "colab": {
          "base_uri": "https://localhost:8080/",
          "height": 221
        },
        "outputId": "5b986d0c-83b3-468d-9563-2618d9146b44"
      },
      "source": [
        "dfCodiv19.pop('place_type')"
      ],
      "execution_count": 248,
      "outputs": [
        {
          "output_type": "execute_result",
          "data": {
            "text/plain": [
              "0      city\n",
              "2      city\n",
              "3      city\n",
              "5      city\n",
              "6      city\n",
              "       ... \n",
              "995    city\n",
              "996    city\n",
              "997    city\n",
              "998    city\n",
              "999    city\n",
              "Name: place_type, Length: 906, dtype: object"
            ]
          },
          "metadata": {
            "tags": []
          },
          "execution_count": 248
        }
      ]
    },
    {
      "cell_type": "markdown",
      "metadata": {
        "id": "V-Ej5UPGltyf",
        "colab_type": "text"
      },
      "source": [
        "caom isso chegamos a conclusão que para nossa análise precisaremos apenas das colunas:\n",
        "- **City:** que armazena a cidade que os dados representam\n",
        "- **State:** que armazena a informação da UF onde a cidade está\n",
        "- **Confirmed:** que armazena a quantidade de casos de COVID-19 confirmados na cidade/estado\n",
        "- **Date:** que armazena a data em que as informações foram atualizadas\n",
        "- **Deaths:** que armazena a quantidade de mortos por COVID-19 na Cidade/Estado"
      ]
    },
    {
      "cell_type": "markdown",
      "metadata": {
        "id": "oZs7aixnFoPX",
        "colab_type": "text"
      },
      "source": [
        "**Traduzir nome das Colunas**"
      ]
    },
    {
      "cell_type": "code",
      "metadata": {
        "id": "CFRT0djiFiLQ",
        "colab_type": "code",
        "colab": {}
      },
      "source": [
        "dfCodiv19 = dfCodiv19.rename(columns={'city': 'cidade', 'confirmed': 'casosConfirmados', 'date': 'dataAtualizacao', 'deaths': 'mortos', 'state': 'uf'  })"
      ],
      "execution_count": 0,
      "outputs": []
    },
    {
      "cell_type": "markdown",
      "metadata": {
        "id": "f7jJuT1f7WHY",
        "colab_type": "text"
      },
      "source": [
        "**Exibir dataset Final**"
      ]
    },
    {
      "cell_type": "code",
      "metadata": {
        "id": "rMw11wuni5kc",
        "colab_type": "code",
        "colab": {
          "base_uri": "https://localhost:8080/",
          "height": 204
        },
        "outputId": "3f4b36b6-d301-4653-c738-ebc0671d1492"
      },
      "source": [
        "dfCodiv19.head() "
      ],
      "execution_count": 251,
      "outputs": [
        {
          "output_type": "execute_result",
          "data": {
            "text/html": [
              "<div>\n",
              "<style scoped>\n",
              "    .dataframe tbody tr th:only-of-type {\n",
              "        vertical-align: middle;\n",
              "    }\n",
              "\n",
              "    .dataframe tbody tr th {\n",
              "        vertical-align: top;\n",
              "    }\n",
              "\n",
              "    .dataframe thead th {\n",
              "        text-align: right;\n",
              "    }\n",
              "</style>\n",
              "<table border=\"1\" class=\"dataframe\">\n",
              "  <thead>\n",
              "    <tr style=\"text-align: right;\">\n",
              "      <th></th>\n",
              "      <th>cidade</th>\n",
              "      <th>casosConfirmados</th>\n",
              "      <th>dataAtualizacao</th>\n",
              "      <th>mortos</th>\n",
              "      <th>order_for_place</th>\n",
              "      <th>uf</th>\n",
              "    </tr>\n",
              "  </thead>\n",
              "  <tbody>\n",
              "    <tr>\n",
              "      <th>0</th>\n",
              "      <td>Rio Branco</td>\n",
              "      <td>25</td>\n",
              "      <td>2020-03-28</td>\n",
              "      <td>0.0</td>\n",
              "      <td>12</td>\n",
              "      <td>AC</td>\n",
              "    </tr>\n",
              "    <tr>\n",
              "      <th>2</th>\n",
              "      <td>Maceió</td>\n",
              "      <td>13</td>\n",
              "      <td>2020-03-28</td>\n",
              "      <td>0.0</td>\n",
              "      <td>18</td>\n",
              "      <td>AL</td>\n",
              "    </tr>\n",
              "    <tr>\n",
              "      <th>3</th>\n",
              "      <td>Porto Real do Colégio</td>\n",
              "      <td>1</td>\n",
              "      <td>2020-03-28</td>\n",
              "      <td>0.0</td>\n",
              "      <td>4</td>\n",
              "      <td>AL</td>\n",
              "    </tr>\n",
              "    <tr>\n",
              "      <th>5</th>\n",
              "      <td>Boca do Acre</td>\n",
              "      <td>1</td>\n",
              "      <td>2020-03-28</td>\n",
              "      <td>0.0</td>\n",
              "      <td>3</td>\n",
              "      <td>AM</td>\n",
              "    </tr>\n",
              "    <tr>\n",
              "      <th>6</th>\n",
              "      <td>Manacapuru</td>\n",
              "      <td>2</td>\n",
              "      <td>2020-03-28</td>\n",
              "      <td>0.0</td>\n",
              "      <td>2</td>\n",
              "      <td>AM</td>\n",
              "    </tr>\n",
              "  </tbody>\n",
              "</table>\n",
              "</div>"
            ],
            "text/plain": [
              "                  cidade  casosConfirmados  ... order_for_place  uf\n",
              "0             Rio Branco                25  ...              12  AC\n",
              "2                 Maceió                13  ...              18  AL\n",
              "3  Porto Real do Colégio                 1  ...               4  AL\n",
              "5           Boca do Acre                 1  ...               3  AM\n",
              "6             Manacapuru                 2  ...               2  AM\n",
              "\n",
              "[5 rows x 6 columns]"
            ]
          },
          "metadata": {
            "tags": []
          },
          "execution_count": 251
        }
      ]
    },
    {
      "cell_type": "markdown",
      "metadata": {
        "id": "EHhl7EFnHLpk",
        "colab_type": "text"
      },
      "source": [
        "**Gera CSV com os dados para Utilizarmos em nosso próximo Artigo**"
      ]
    },
    {
      "cell_type": "code",
      "metadata": {
        "id": "LnzvZsRYGmgN",
        "colab_type": "code",
        "colab": {}
      },
      "source": [
        "dfCodiv19.to_csv('datasetCodiv19.csv', index=False,sep=';')"
      ],
      "execution_count": 0,
      "outputs": []
    },
    {
      "cell_type": "markdown",
      "metadata": {
        "id": "W2l_doen7mmr",
        "colab_type": "text"
      },
      "source": [
        "**Autor:**\n",
        "\n",
        "*Alexandre Tavares*\n",
        "\n",
        "*Engenheiro de Dados*\n",
        "\n",
        "https://www.linkedin.com/in/alexandre-tavares/"
      ]
    }
  ]
}